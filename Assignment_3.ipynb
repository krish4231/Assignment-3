{
  "nbformat": 4,
  "nbformat_minor": 0,
  "metadata": {
    "colab": {
      "provenance": []
    },
    "kernelspec": {
      "name": "python3",
      "display_name": "Python 3"
    },
    "language_info": {
      "name": "python"
    }
  },
  "cells": [
    {
      "cell_type": "markdown",
      "source": [
        "# Theortical Questions"
      ],
      "metadata": {
        "id": "opBA9syb_lFA"
      }
    },
    {
      "cell_type": "markdown",
      "source": [
        "Ans 1.\n",
        "Function inside a class is called a method, which is one of the main differencebetween between the both."
      ],
      "metadata": {
        "id": "yGY9XFK23e-f"
      }
    },
    {
      "cell_type": "markdown",
      "source": [
        "Ans 2.\n",
        "Parameters are the variables passed in defining the function,\n",
        "but Arguments are the actual words,nums or the values.\n"
      ],
      "metadata": {
        "id": "1xwyT0pk3-B-"
      }
    },
    {
      "cell_type": "markdown",
      "source": [
        "Ans 3.\n",
        "Defining a function:\n",
        "\n",
        "def name():\n",
        "\n",
        "body\n",
        "\n",
        "Calling a function:\n",
        "\n",
        "name(argument)"
      ],
      "metadata": {
        "id": "ulH_-6873_4M"
      }
    },
    {
      "cell_type": "markdown",
      "source": [
        "Ans 4.\n",
        "Return is used for returning the argumented return variable."
      ],
      "metadata": {
        "id": "_rYFAlmp4s0w"
      }
    },
    {
      "cell_type": "markdown",
      "source": [
        "Ans 5.\n",
        "Iterable is object or sequential or data structure that is capable of returning its members one at a time.\n",
        "While, iterator is an object representing steam of data."
      ],
      "metadata": {
        "id": "B_J8-eNv5Ai9"
      }
    },
    {
      "cell_type": "markdown",
      "source": [
        "Ans 6.\n",
        "While, iteration will take more time to execute if, the computation is more, generator produces the results, one at a time.Yield is used to return a generator function."
      ],
      "metadata": {
        "id": "K-jX31OH5rOU"
      }
    },
    {
      "cell_type": "markdown",
      "source": [
        "Ans 7.\n",
        "Using the generator, will benifit the memory storage as it will take less memory usage and at the same time as it returns the result when requested, less time would be taken for execution."
      ],
      "metadata": {
        "id": "a9P8uFLS6ZOk"
      }
    },
    {
      "cell_type": "markdown",
      "source": [
        "Ans 8.\n",
        "Lambda function is a anonymous function with syntax lambda variable:expression.\n",
        "It can be used for the operations using the expression instead of repeating the expression."
      ],
      "metadata": {
        "id": "C4Rqvr8y7GMt"
      }
    },
    {
      "cell_type": "markdown",
      "source": [
        "Ans 9.\n",
        "It is used to perform a specific task or expression to all items in a list or iterable."
      ],
      "metadata": {
        "id": "Hd3RlGeI8gU4"
      }
    },
    {
      "cell_type": "markdown",
      "source": [
        "Ans 10.\n",
        "The main difference between map(),reduce(),filter() is that map function applies the task to all, reduce applies it to each one by one and filter filters out the items."
      ],
      "metadata": {
        "id": "TBYDEWUm9YMc"
      }
    },
    {
      "cell_type": "markdown",
      "source": [
        "Ans 11.\n",
        "firstly, for using the reduce the reduce function, we need to import it:\n",
        "From below, code,\n",
        "\n",
        "firsty x and y are 47 and 11, then 58 and 42,then 100 and 13 and it results 113."
      ],
      "metadata": {
        "id": "JQ0KIgAZ-Ovx"
      }
    },
    {
      "cell_type": "code",
      "source": [
        "from functools import reduce\n",
        "l = [47,11,42,13]\n",
        "reduce(lambda x,y: x+y, l)\n"
      ],
      "metadata": {
        "colab": {
          "base_uri": "https://localhost:8080/"
        },
        "id": "srP9jHgR-dpa",
        "outputId": "afe6c266-e0d3-4d4d-aee8-8b52fd4d8f2b"
      },
      "execution_count": null,
      "outputs": [
        {
          "output_type": "execute_result",
          "data": {
            "text/plain": [
              "113"
            ]
          },
          "metadata": {},
          "execution_count": 1
        }
      ]
    },
    {
      "cell_type": "markdown",
      "source": [
        "# Practical Questions"
      ],
      "metadata": {
        "id": "ziqB6uFl_y8w"
      }
    },
    {
      "cell_type": "code",
      "source": [
        "#Ans 1.\n",
        "def addition(numbers):\n",
        "    return sum(i for i in numbers if i % 2 == 0)\n",
        "numbers = [1,2,3,4]\n",
        "addition(numbers)\n"
      ],
      "metadata": {
        "colab": {
          "base_uri": "https://localhost:8080/"
        },
        "id": "TeCA5Y4e_8aw",
        "outputId": "5327815c-654b-4d0a-949a-4c2fe769a9e1"
      },
      "execution_count": null,
      "outputs": [
        {
          "output_type": "execute_result",
          "data": {
            "text/plain": [
              "6"
            ]
          },
          "metadata": {},
          "execution_count": 18
        }
      ]
    },
    {
      "cell_type": "code",
      "source": [
        "#Ans 2.\n",
        "def reverse(r):\n",
        "  return r[::-1]\n",
        "a = \"good\"\n",
        "print(reverse(a))\n"
      ],
      "metadata": {
        "colab": {
          "base_uri": "https://localhost:8080/"
        },
        "id": "jSuv5Kg7KhtQ",
        "outputId": "e78ab10b-8e62-4914-8dc0-aab6eb10f8e5"
      },
      "execution_count": null,
      "outputs": [
        {
          "output_type": "stream",
          "name": "stdout",
          "text": [
            "doog\n"
          ]
        }
      ]
    },
    {
      "cell_type": "code",
      "source": [
        "#Ans 3.\n",
        "def sq(numbers):\n",
        "  return [i**2 for i in numbers ]\n",
        "numbers = [1,2,3,4]\n",
        "sq(numbers)"
      ],
      "metadata": {
        "colab": {
          "base_uri": "https://localhost:8080/"
        },
        "id": "ILr9baZLPfqt",
        "outputId": "406e6b86-75e7-4f2e-9a55-ba530cb96d20"
      },
      "execution_count": null,
      "outputs": [
        {
          "output_type": "execute_result",
          "data": {
            "text/plain": [
              "[1, 4, 9, 16]"
            ]
          },
          "metadata": {},
          "execution_count": 26
        }
      ]
    },
    {
      "cell_type": "code",
      "source": [
        "#Ans 4.\n",
        "\n",
        "numbers = list(range(1,201))\n",
        "\n",
        "def prime(num):\n",
        "  if num<=1:\n",
        "    return False\n",
        "\n",
        "  for i in range(2,num):\n",
        "    if num%i==0:\n",
        "      return False\n",
        "  return True\n",
        "\n",
        "print(\"Prime numbers from1 to 200 are:\")\n",
        "\n",
        "\n",
        "for num in numbers:\n",
        "  if prime(num):\n",
        "    print(num, end = \" \")\n",
        "\n"
      ],
      "metadata": {
        "id": "6Y911LDhQiGs",
        "colab": {
          "base_uri": "https://localhost:8080/"
        },
        "outputId": "68168aba-a955-4e7b-a510-ab3feb987a64"
      },
      "execution_count": null,
      "outputs": [
        {
          "output_type": "stream",
          "name": "stdout",
          "text": [
            "Prime numbers from1 to 200 are:\n",
            "2 3 5 7 11 13 17 19 23 29 31 37 41 43 47 53 59 61 67 71 73 79 83 89 97 101 103 107 109 113 127 131 137 139 149 151 157 163 167 173 179 181 191 193 197 199 "
          ]
        }
      ]
    },
    {
      "cell_type": "code",
      "source": [
        "#Ans 5.\n"
      ],
      "metadata": {
        "id": "0mT5lqjVQy75"
      },
      "execution_count": null,
      "outputs": []
    },
    {
      "cell_type": "code",
      "source": [
        "#Ans 6.\n",
        "def power(expo):\n",
        "    for i in range(expo + 1):\n",
        "        yield 2 ** i"
      ],
      "metadata": {
        "id": "CT81zV6aRl0A"
      },
      "execution_count": null,
      "outputs": []
    },
    {
      "cell_type": "code",
      "source": [
        "#Ans 7.\n"
      ],
      "metadata": {
        "id": "TFFxYm1WSgye"
      },
      "execution_count": null,
      "outputs": []
    },
    {
      "cell_type": "code",
      "source": [
        "#Ans 9.\n",
        "def farenheit(celsius):\n",
        "    return (celsius * 9/5) + 32\n"
      ],
      "metadata": {
        "id": "_DzjI8SsSriy"
      },
      "execution_count": null,
      "outputs": []
    },
    {
      "cell_type": "code",
      "source": [
        "#Ans 10.\n",
        "def vow(str):\n",
        "  vowels = 'aeiouAEIOU'\n",
        "  return ''.join(filter(lambda x:x not in vowels,str))\n",
        "string =\"good\"\n",
        "vow(string)\n",
        "\n",
        "\n",
        "\n"
      ],
      "metadata": {
        "colab": {
          "base_uri": "https://localhost:8080/",
          "height": 35
        },
        "id": "jtcEOpiFTeD0",
        "outputId": "2c796fe6-97f5-4ef4-e186-77dde093fff0"
      },
      "execution_count": null,
      "outputs": [
        {
          "output_type": "execute_result",
          "data": {
            "text/plain": [
              "'gd'"
            ],
            "application/vnd.google.colaboratory.intrinsic+json": {
              "type": "string"
            }
          },
          "metadata": {},
          "execution_count": 38
        }
      ]
    },
    {
      "cell_type": "code",
      "source": [
        "#Ans 11.\n"
      ],
      "metadata": {
        "id": "1VzPsnL1VnVq"
      },
      "execution_count": null,
      "outputs": []
    },
    {
      "cell_type": "code",
      "source": [],
      "metadata": {
        "id": "KjYBezqrVpLd"
      },
      "execution_count": null,
      "outputs": []
    }
  ]
}